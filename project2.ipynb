{
 "cells": [
  {
   "cell_type": "markdown",
   "id": "0e4e2fbc",
   "metadata": {},
   "source": [
    "Title of notebook"
   ]
  },
  {
   "cell_type": "markdown",
   "id": "19211f72",
   "metadata": {},
   "source": [
    "introduction"
   ]
  },
  {
   "cell_type": "markdown",
   "id": "eb4372ef",
   "metadata": {},
   "source": [
    "list data science languages\n",
    "1. Python\n",
    "2. R\n",
    "3. SQL\n",
    "4. Julia"
   ]
  },
  {
   "cell_type": "markdown",
   "id": "9aafa117",
   "metadata": {},
   "source": [
    "list data science libraries\n",
    "1. NumPy\n",
    "2. pandas\n",
    "3. scikit-learn\n",
    "4. Matplotlib\n",
    "5. Seaborn\n",
    "6. PyTorch"
   ]
  },
  {
   "cell_type": "markdown",
   "id": "bcaddcb1",
   "metadata": {},
   "source": [
    "table of Data Science tools\n",
    "1. Jupyter Notebook\n",
    "2. RStudio\n",
    "3. Visual Studio Code\n",
    "4. PyCharm\n",
    "5. Tableau"
   ]
  },
  {
   "cell_type": "markdown",
   "id": "11c5bc35",
   "metadata": {},
   "source": [
    "arithmetic expression examples"
   ]
  },
  {
   "cell_type": "code",
   "execution_count": 11,
   "id": "e3b83ef2",
   "metadata": {},
   "outputs": [
    {
     "data": {
      "text/plain": [
       "55"
      ]
     },
     "execution_count": 11,
     "metadata": {},
     "output_type": "execute_result"
    }
   ],
   "source": [
    "(5 + 6) * 5"
   ]
  },
  {
   "cell_type": "code",
   "execution_count": 10,
   "id": "63e677cc",
   "metadata": {},
   "outputs": [
    {
     "data": {
      "text/plain": [
       "2.0"
      ]
     },
     "execution_count": 10,
     "metadata": {},
     "output_type": "execute_result"
    }
   ],
   "source": [
    "# convert minutes to hours\n",
    "minutes = 120\n",
    "hours = minutes / 60\n",
    "hours"
   ]
  },
  {
   "cell_type": "markdown",
   "id": "4a611b69",
   "metadata": {},
   "source": [
    "list Objectives"
   ]
  },
  {
   "cell_type": "markdown",
   "id": "666b3c1a",
   "metadata": {},
   "source": [
    "Author’s name = Arsalan Ahmed Khan"
   ]
  },
  {
   "cell_type": "code",
   "execution_count": null,
   "id": "ac4d2545",
   "metadata": {},
   "outputs": [],
   "source": []
  }
 ],
 "metadata": {
  "kernelspec": {
   "display_name": "Python 3 (ipykernel)",
   "language": "python",
   "name": "python3"
  },
  "language_info": {
   "codemirror_mode": {
    "name": "ipython",
    "version": 3
   },
   "file_extension": ".py",
   "mimetype": "text/x-python",
   "name": "python",
   "nbconvert_exporter": "python",
   "pygments_lexer": "ipython3",
   "version": "3.9.13"
  }
 },
 "nbformat": 4,
 "nbformat_minor": 5
}
